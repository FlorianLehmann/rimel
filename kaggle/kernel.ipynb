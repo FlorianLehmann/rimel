{
  "cells": [
    {
      "metadata": {
        "_uuid": "8f2839f25d086af736a60e9eeb907d3b93b6e0e5",
        "_cell_guid": "b1076dfc-b9ad-4769-8c92-a6c4dae69d19",
        "trusted": true
      },
      "cell_type": "code",
      "source": "from google.cloud import bigquery\nimport pandas as pd\n\nclient = bigquery.Client()",
      "execution_count": null,
      "outputs": []
    },
    {
      "metadata": {
        "_cell_guid": "79c7e3d0-c299-4dcb-8224-4455121ee9b0",
        "_uuid": "d629ff2d2480ee46fbb7e2d37f6b5fab8052498a",
        "trusted": true
      },
      "cell_type": "code",
      "source": "import numpy as np\nimport operator\nimport pandas as pd \nfrom wordcloud import WordCloud, STOPWORDS\nimport matplotlib.pyplot as plt\nfrom plotly import __version__\nfrom plotly.offline import download_plotlyjs, init_notebook_mode, plot, iplot\nimport plotly as py\nimport plotly.graph_objs as go\nfrom google.cloud import bigquery\nfrom bq_helper import BigQueryHelper\n\ninit_notebook_mode(connected=True)\nplt.rcParams['figure.figsize']=(12,5)\nbq_assistant = BigQueryHelper(\"bigquery-public-data\", \"github_repos\")\nQUERY = \"\"\"\n        SELECT repo_name\n        FROM `bigquery-public-data.github_repos.languages`\n        \"\"\"\nprint (\"QUERY SIZE:   \")\nprint (str(round((bq_assistant.estimate_query_size(QUERY)),2))+str(\" GB\"))\n\ndf = bq_assistant.query_to_pandas_safe(QUERY)",
      "execution_count": null,
      "outputs": []
    }
  ],
  "metadata": {
    "kernelspec": {
      "display_name": "Python 3",
      "language": "python",
      "name": "python3"
    },
    "language_info": {
      "name": "python",
      "version": "3.6.6",
      "mimetype": "text/x-python",
      "codemirror_mode": {
        "name": "ipython",
        "version": 3
      },
      "pygments_lexer": "ipython3",
      "nbconvert_exporter": "python",
      "file_extension": ".py"
    }
  },
  "nbformat": 4,
  "nbformat_minor": 1
}